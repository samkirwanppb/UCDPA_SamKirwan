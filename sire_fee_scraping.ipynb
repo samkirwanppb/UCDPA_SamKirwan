{
  "nbformat": 4,
  "nbformat_minor": 0,
  "metadata": {
    "colab": {
      "provenance": [],
      "authorship_tag": "ABX9TyMoWJpgbzQYLr0qJnwyQo5+",
      "include_colab_link": true
    },
    "kernelspec": {
      "name": "python3",
      "display_name": "Python 3"
    },
    "language_info": {
      "name": "python"
    }
  },
  "cells": [
    {
      "cell_type": "markdown",
      "metadata": {
        "id": "view-in-github",
        "colab_type": "text"
      },
      "source": [
        "<a href=\"https://colab.research.google.com/github/samkirwanppb/UCDPA_SamKirwan/blob/main/sire_fee_scraping.ipynb\" target=\"_parent\"><img src=\"https://colab.research.google.com/assets/colab-badge.svg\" alt=\"Open In Colab\"/></a>"
      ]
    },
    {
      "cell_type": "code",
      "execution_count": 3,
      "metadata": {
        "colab": {
          "base_uri": "https://localhost:8080/"
        },
        "id": "vBi_Okwf5wi6",
        "outputId": "4b716ee3-6de7-42fd-bf48-4b4c26847bb1"
      },
      "outputs": [
        {
          "output_type": "stream",
          "name": "stdout",
          "text": [
            "<script>window.infographicData={\"id\":318959736,\"type\":0,\"block_id\":\"023467ec-1db7-4ba5-90b3-12e78f43dcf4\",\"theme_id\":258,\"user_id\":2114665,\"team_user_id\":805284,\"path\":\"a0ff400d-32c4-4e46-bde8-a093a04e1b11\",\"title\":\"Stallion fees 2023 wk48\",\"description\":\"\",\"tags\":\"\",\"public\":false,\"publicAccess\":false,\"private_link_enabled\":1,\"thumb\":\"https:\\u002F\\u002Finfogram-thumbs-200.s3-eu-west-1.amazonaws.com\\u002F023467ec-1db7-4ba5-90b3-12e78f43dcf4.jpg\",\"embedImageUrl\":\"https:\\u002F\\u002Finfogram.io\\u002Fp\\u002F6c657eaada927282c6ba8f94485caba4.png\",\"previewImageUrl\":\"https:\\u002F\\u002Finfogram.io\\u002Fp\\u002F90c07788e8331dd681e583525fa6ab72.png\",\"width\":599,\"copyright\":\"\",\"properties\":{\"tabs\":true,\"custom_logo\":\"none\",\"embed_button\":\"disabled\",\"transparent\":true,\"zeropaddingembed\":\"true\",\"title_link\":\"infogram\",\"customLinkOption\":\"text\",\"footerSettings\":{},\"publishType\":1,\"rtl\":false,\"language\":\"en\",\"export_settings\":{\"showGrid\":true,\"showValues\":true},\"whitelabel\":true,\"noTracking\":false,\"decimal_separator\":\".,\",\"custom_link_url\":\"\",\"logoName\":\"Infogram logo\",\"showChartsOnScroll\":true,\"pro\":true},\"elements\":[{\"type\":\"particle\",\"particle_id\":781188726,\"object_id\":\"ae719797-9a2c-4bea-9f39-a61bdafe8d87\",\"particle_type\":\"maintitle\",\"picture\":null,\"accessibility\":{\"enabled\":true},\"text\":\"\\u003Cfont style=\\\"font-size: 18px\\\"\\u003E2023 stallion fees \\u003C\\u002Ffont\\u003E\\u003Cfont style=\\\"font-size: 12px\\\"\\u003E(2022 fee)\\u003C\\u002Ffont\\u003E\",\"content_type\":\"text\\u002Fhtml\",\"title\":\"\",\"shrink\":null},{\"type\":\"chart\",\"chart_id\":683310066,\"object_id\":\"4571239f-17bc-4bd6-a894-c00370140f22\",\"chart_type_nr\":19,\"data\":[[[\"Stallion\",\"Stud\",\"Fee\"],[\"Acclamation\",\"Rathbarry\",\"€27,500 (€27,500)\"],[\"Alkumait\",\"Castlefield\",\"€5,000 (€5,000)\"],[\"Arizona\",\"Coolmore\",\"€5,000 (€6,000)\"],[\"Australia\",\"Coolmore\",\"€25,000 (€35,000)\"],[\"Awtaad\",\"Derrinstown\",\"€5,000 (€5,000)\"],[\"Bayside Boy\",\"Ballylinch\",\"€15,000 (NEW)\"],[\"Behesht\",\"Whytemount\",\"€1,500 (€1,500)\"],[\"Blackbeard\",\"Coolmore\",\"€25,000 (NEW)\"],[\"Blue Point\",\"Kildangan\",\"€35,000 (€40,000)\"],[\"Bungle Inthejungle\",\"Rathasker\",\"€6,500 (€8,000)\"],[\"Calyx\",\"Coolmore\",\"€10,000 (€12,500)\"],[\"Camelot\",\"Coolmore\",\"€60,000 (€75,000)\"],[\"Churchill\",\"Coolmore\",\"€30,000 (€25,000)\"],[\"Circus Maximus\",\"Coolmore\",\"€10,000 (€12,500)\"],[\"Cotai Glory\",\"Tally-Ho\",\"€12,500 (€8,500)\"],[\"Coulsty\",\"Rathasker\",\"€4,500 (€4,000)\"],[\"Court Cave\",\"Boardsmill\",\"€4,000 (€4,000)\"],[\"Dandy Man\",\"Ballyhane\",\"€15,000 (€15,000)\"],[\"Dark Angel\",\"Morristown Lattin\",\"€60,000 (€60,000)\"],[\"Dawn Approach\",\"Redmondstown\",\"€5,000 (€10,000)\"],[\"Dee Ex Bee\",\"Arctic Tack\",\"€3,500 (€3,500)\"],[\"Decorated Knight\",\"Irish National\",\"€5,000 (€7,500)\"],[\"Dragon Pulse\",\"Irish National\",\"€2,000 (€2,000)\"],[\"Earthlight\",\"Kildangan\",\"€15,000 (€18,000)\"],[\"Elusive Pimpernel\",\"Irish National\",\"€2,000 (€2,000)\"],[\"Elzaam\",\"Ballyhane\",\"€4,000 (€5,000)\"],[\"Equiano\",\"Irish National\",\"€2,000 (€2,000)\"],[\"Far Above\",\"Starfield\",\"€5,000 (€5,000)\"],[\"Feel Like Dancing\",\"Whytemount\",\"€1,500 (€2,000)\"],[\"Finsceal Fior\",\"Green Hills\",\"€1,000 (€1,000)\"],[\"Footstepsinthesand\",\"Coolmore\",\"€10,000 (€12,500)\"],[\"Galileo Chrome\",\"Starfield\",\"€3,000 (€4,000)\"],[\"Free Eagle\",\"Irish National\",\"€5,000 (€5,000)\"],[\"Ghaiyyath\",\"Kildangan\",\"€25,000 (€25,000)\"],[\"Gleneagles\",\"Coolmore\",\"€17,500 (€15,000)\"],[\"Gregorian\",\"Rathasker\",\"€4,500 (€4,500)\"],[\"Gustav Klimt\",\"Coolmore\",\"€4,000 (€4,000)\"],[\"Harzand\",\"Kilbarry Lodge\",\"€5,000 (€5,000)\"],[\"Holy Roman Emperor\",\"Coolmore\",\"€10,000 (€10,000)\"],[\"Inns Of Court\",\"Tally-Ho\",\"€5,000 (€5,000)\"],[\"Invincible Army\",\"Morristown Lattin\",\"€7,500 (€7,500)\"],[\"James Garfield\",\"Rathbarry\",\"€4,000 (€4,000)\"],[\"Kamsin\",\"Annshoon\",\"€3,500 (€3,500)\"],[\"Kessaar\",\"Tally-Ho\",\"€5,000 (€5,000)\"],[\"King Of Change\",\"Starfield\",\"€6,000 (€6,000)\"],[\"Kodiac\",\"Tally-Ho\",\"€40,000 (€65,000)\"],[\"Kodi Bear\",\"Rathbarry\",\"€15,000 (€15,000)\"],[\"Kuroshio\",\"Starfield\",\"€5,000 (€5,000)\"],[\"Lope De Vega\",\"Ballylinch\",\"€125,000 (€125,000)\"],[\"Lucky Vega\",\"Irish National\",\"€15,000 (€15,000)\"],[\"Magna Grecia\",\"Coolmore\",\"€15,000(€17,500)\"],[\"Make Believe\",\"Ballylinch\",\"€10,000 (€17,500)\"],[\"Manatee\",\"Whytemount\",\"€2,000 (€3,000)\"],[\"Mehmas\",\"Tally-Ho\",\"€60,000 (€50,000)\"],[\"Minzaal\",\"Derrinstown\",\"€15,000 (NEW)\"],[\"Nando Parrado\",\"Irish National\",\"€6,000 (€6,000)\"],[\"Naval Crown\",\"Kildangan\",\"€15,000 (NEW)\"],[\"New Bay\",\"Ballylinch\",\"€75,000 (€37,500)\"],[\"Night Of Thunder\",\"Kildangan\",\"€100,000 (€75,000)\"],[\"Night Wish\",\"Foxwood\",\"€4,000 (€4,000)\"],[\"No Nay Never\",\"Coolmore\",\"€175,000 (€125,000)\"],[\"Phoenix Of Spain\",\"Irish National\",\"€12,000 (€12,000)\"],[\"Poet’s Word\",\"Boardsmill\",\"€6,000 (€6,000)\"],[\"Prince Of Lir\",\"Ballyhane\",\"€3,000 (€4,000)\"],[\"Proconsul\",\"Annshoon\",\"€1,000 (€1,000)\"],[\"Profitable\",\"Kildangan\",\"€9,000 (€12,500)\"],[\"Racinger\",\"Foxwood\",\"€3,000 (€1,700)\"],[\"Raven’s Pass\",\"Kildangan\",\"€7,500 (€7,500)\"],[\"River Boyne\",\"Tara\",\"€5,000 (€5,000)\"],[\"Saddex\",\"Blackrath\",\"€2,500 (€2,000)\"],[\"Saintgodrel\",\"Foxwood\",\"€1,500 (€1,800)\"],[\"Sands Of Mali\",\"Ballyhane\",\"€5,000 (€5,000)\"],[\"Saxon Warrior\",\"Coolmore\",\"€35,000 (€20,000)\"],[\"Sea The Stars\",\"Gilltown\",\"€180,000 (€150,000)\"],[\"Shaman\",\"Morristown Lattin\",\"€5,000 (€5,000)\"],[\"Sioux Nation\",\"Coolmore\",\"€17,500 (€10,000)\"],[\"Smooth Daddy\",\"Starfield\",\"€4,000 (€4,000)\"],[\"Soldier’s Call\",\"Ballyhane\",\"€7,500 (€7,500)\"],[\"Sottsass\",\"Coolmore\",\"€25,000 (€25,000)\"],[\"Space Blues\",\"Kildangan\",\"€16,000 (€17,500)\"],[\"Space Traveller\",\"Ballyhane\",\"€6,500 (NEW)\"],[\"Starman\",\"Tally-Ho\",\"€15,000 (€17,500)\"],[\"State Of Rext\",\"Rathbarry\",\"€25,000 (NEW)\"],[\"Starspangledbanner\",\"Coolmore\",\"€50,000 (€35,000)\"],[\"St Marks Basilica\",\"Coolmore\",\"€65,000 (€65,000)\"],[\"Storm The Stars\",\"Coolagown\",\"€3,000 (€2,500)\"],[\"Sumbal\",\"Boardsmill\",\"€2,500 (€2,500)\"],[\"Supremacy\",\"Morristown Lattin\",\"€10,000 (€12,500)\"],[\"Ten Sovereigns\",\"Coolmore\",\"€17,500 (€17,500)\"],[\"Teofilo\",\"Kildangan\",\"€30,000 (€30,000)\"],[\"Tosen Stardom\",\"Zenith Stallions\",\"€7,000 (A$7,700)\"],[\"Unfortunately\",\"Springfield House\",\"€3,500 (€3,500)\"],[\"U S Navy Flag\",\"Coolmore\",\"€10,000 (€12,500)\"],[\"Valirann\",\"Whytemount\",\"€2,000 (€2,000)\"],[\"Waldgeist\",\"Ballylinch\",\"€12,500 (€15,000)\"],[\"Waldkonig\",\"Knockhouse\",\"€2,500 (NEW)\"],[\"Way To Paris\",\"Coolagown\",\"€3,500 (€3,500)\"],[\"Wootton Bassett\",\"Coolmore\",\"€150,000 (€150,000)\"]],[[\"Stallion\",\"Stud\",\"Fee\"],[\"A’Ali\",\"Newsells Park \",\"£5,000 (£7,500)\"],[\"Aclaim\",\"Manton Park\",\"£10,000 (£6,000)\"],[\"Advertise\",\"Manton Park\",\"£20,000 (£25,000)\"],[\"Ardad\",\"Overbury\",\"£12,500 (£12,500)\"],[\"Baaeed\",\"Nunnery\",\"£80,000 (NEW)\"],[\"Bangkok\",\"Chapel Lane\",\"£3,000 (£3,000)\"],[\"Bated Breath\",\"Banstead Manor\",\"£15,000 (£15,000)\"],[\"Belardo\",\"Bearstone\",\"£6,500 (€9,000)\"],[\"Bobby’s Kitten\",\"Lanwades\",\"£6,000 (£7,000)\"],[\"Buratino\",\"Hedgeholme\",\"£3,000 (£3,000)\"],[\"Caturra\",\"Overbury\",\"£6,500 (NEW)\"],[\"Century Dream\",\"Norton Grove\",\"£3,000 (£3,000)\"],[\"Charming Thought\",\"March Hare\",\"£3,000 (£4,000)\"],[\"Cracksman\",\"Dalham Hall\",\"£17,500 (£17,500)\"],[\"Dartmouth\",\"Shade Oak\",\"£3,000 (£2,500)\"],[\"Dink\",\"Alne Park\",\"£3,000 (Private)\"],[\"Dream Ahead\",\"Bearstone\",\"£7,500 (£7,500)\"],[\"Dubawi\",\"Dalham Hall\",\"£350,000 (£250,000)\"],[\"Due Diligence\",\"Whitsbury Manor\",\"£5,000 (£5,000)\"],[\"Eqtidaar\",\"Nunnery\",\"£5,000 (£5,000)\"],[\"Expert Eye\",\"Banstead Manor\",\"£7,500 (£10,000)\"],[\"Frankel\",\"Banstead Manor\",\"£275,000 (£200,000)\"],[\"Golden Horn\",\"Overbury\",\"£8,000 (£10,000)\"],[\"Harry Angel\",\"Dalham Hall\",\"£10,000 (£12,500)\"],[\"Havana Gold\",\"Tweenhills\",\"£10,000(£12,500)\"],[\"Havana Grey\",\"Whitsbury Manor\",\"£18,500 (£6,000)\"],[\"Iffraaj\",\"Dalham Hall\",\"£15,000 (£17,500)\"],[\"Kameko\",\"Tweenhills\",\"£15,000 (£20,000)\"],[\"Kingman\",\"Banstead Manor\",\"£125,000 (£150,000)\"],[\"Land Force\",\"Highclere\",\"£5,000 (£5,000)\"],[\"Legends Of War\",\"March Hare\",\"£4,000 (£4,000)\"],[\"Lightning Spear\",\"Tweenhills\",\"£5,000 (£5,000)\"],[\"Logician\",\"Shade Oak\",\"£4,000 (£4,000)\"],[\"Lope Y Fernandez\",\"National\",\"£8,500 (£8,500)\"],[\"Masar\",\"Dalham Hall\",\"£14,000 (£14,000)\"],[\"Massaat\",\"Mickley\",\"£4,000 (£4,000)\"],[\"Mayson\",\"Cheveley Park\",\"£6,000 (£6,000)\"],[\"Midnights Legacy\",\"Alne Park\",\"£3,000 (NEW)\"],[\"Mohaather\",\"Nunnery\",\"£15,000 (£15,000)\"],[\"Nathaniel\",\"Newsells Park \",\"£15,000 (£15,000)\"],[\"Oasis Dream\",\"Banstead Manor\",\"£20,000 (£20,000)\"],[\"Ocovango\",\"Alne Park\",\"£3,000 (€2,500)\"],[\"Palace Pier\",\"Dalham Hall\",\"£50,000 (£55,000)\"],[\"Passing Glance\",\"Batsford\",\"£3,000 (£3,000)\"],[\"Perfect Power\",\"Dalham Hall\",\"£15,000 (NEW)\"],[\"Pinatubo\",\"Dalham Hall\",\"£35,000 (£35,000)\"],[\"Planteur\",\"Chapel Lane\",\"£4,000 (£4,000)\"],[\"Postponed\",\"Dalham Hall\",\"£5,000 (£6,000)\"],[\"Rajasinghe\",\"National\",\"£3,000 (£3,000)\"],[\"Roseman\",\"March Hare\",\"£5,000 (£5,500)\"],[\"Rumble Inthejungle\",\"Norman Court\",\"£3,500 (£3,500)\"],[\"Sea The Moon\",\"Lanwades\",\"£25,000 (£25,000)\"],[\"Sergei Prokofiev\",\"Whitsbury Manor\",\"£6,000 (£6,000)\"],[\"Showcasing\",\"Whitsbury Manor\",\"£45,000 (£45,000)\"],[\"Sixties Icon\",\"Norman Court\",\"£3,000 (£3,000)\"],[\"Stradavarius\",\"National\",\"£10,000 (NEW)\"],[\"Study Of Man\",\"Lanwades\",\"£12,500 (£12,500)\"],[\"Tasleet\",\"Nunnery\",\"£6,000 (£5,000)\"],[\"Telescope\",\"Shade Oak\",\"£3,000 (£3,000)\"],[\"Territories\",\"Dalham Hall\",\"£10,000 (£10,000)\"],[\"Time Test\",\"National\",\"£15,000 (£15,000)\"],[\"Too Darn Hot\",\"Dalham Hall\",\"£40,000 (£45,000)\"],[\"Twilight Son\",\"Cheveley Park\",\"£7,000 (£7,000)\"],[\"Ubettabeleiveit\",\"Mickley\",\"£5,000 ($5,000)\"],[\"Ulysses\",\"Cheveley Park\",\"£10,000 (£10,000)\"],[\"Washington DC\",\"Bearstone\",\"£3,000 (£3,500)\"],[\"Without Parole\",\"Newsells Park \",\"£7,000 (£8,000)\"],[\"Zoustar\",\"Tweenhills\",\"£30,000 (£25,000)\"]],[[\"Stallion \",\"Stud \",\"Fee\"],[\"Almanzor\",\"Etreham\",\"€25,000 (€30,000)\"],[\"Al Wukair\",\"Bouquetot\",\"€5,000 (€8,000)\"],[\"Armor\",\"Bouquetot\",\"€5,000 (€5,000)\"],[\"Bathyrhon\",\"La Hetraie\",\"€6,000 (€3,800)\"],[\"Beaumac De Houelle\",\"Montaigu\",\"€6,000 (€6,000)\"],[\"Charm Spirit\",\"Logis Saint Germain\",\"€5,000 (€5,000)\"],[\"City Light\",\"Etreham\",\"€7,000 (€7,000)\"],[\"Cloth Of Stars\",\"Logis\",\"€7,000 (€7,000)\"],[\"Cokoriko\",\"Cercy\",\"€8,000 (€8,000)\"],[\"Dabirsim\",\"Grandchamp\",\"€8,000 (€8,000)\"],[\"Dariyan\",\"Bonneval\",\"€5,000 (€5,000)\"],[\"De Treville\",\"Sumbe\",\"€5,000 (€5,000)\"],[\"Ectot\",\"Bouquetot\",\"€5,000 (€5,000)\"],[\"Elarqam\",\"Saint Armoult\",\"€5,000 (€5,000)\"],[\"Flintshire\",\"Montaigu\",\"€6,500 (€6,500)\"],[\"Galileo Gold\",\"Bouquetot\",\"€7,000 (€7,000)\"],[\"Galiway\",\"Colleville\",\"€30,000 (€30,000)\"],[\"Goken\",\"Colleville\",\"€15,000 (€15,000)\"],[\"Golden Horde\",\"Sumbe\",\"€8,000 (€8,000)\"],[\"Goliath Du Berlais\",\"Tuilerie\",\"€7,500 (€7,500)\"],[\"Great Pretender\",\"La Hetraie\",\"€8,000 (€8,000)\"],[\"Hello Youmzain\",\"Etreham\",\"€22,500 (€25,000)\"],[\"Intello\",\"Beaumont\",\"€8,000 (€8,000)\"],[\"Kendargent\",\"Colleville\",\"€17,000 (€17,000)\"],[\"Masked Marvel\",\"Tuilerie\",\"€12,500 (€7,000)\"],[\"Mishriff\",\"Sumbe\",\"€20,000 (NEW)\"],[\"Muhaarar\",\"Faunes\",\"€7,500 (€5,000)\"],[\"Nirvana Du Berlais\",\"La Hetraie\",\"€6,500 (€6,500)\"],[\"Paradiso\",\"Tuilerie\",\"€5,000 (NEW)\"],[\"Pastorius\",\"La Hetraie\",\"€7,000 (€5,800)\"],[\"Persian King\",\"Etreham\",\"€25,000 (€30,000)\"],[\"Ribchester\",\"Logis\",\"€7,500 (€12,500)\"],[\"Romanised\",\"Bouquetot\",\"€7,000 (€7,000)\"],[\"Saint Des Saints\",\"Etreham\",\"€15,000 (€15,000)\"],[\"Sealiway\",\"Beaumont\",\"€12,000 (NEW)\"],[\"Shamalgan\",\"Montaigu\",\"€5,000 (€4,000)\"],[\"Siyouni\",\"Bonneval\",\"€150,000 (€140,000)\"],[\"Soft Light\",\"Colleville\",\"€5,000 (€5,000)\"],[\"The Grey Gatsby\",\"Petit Tellier\",\"€12,000 (€8,000)\"],[\"Thunder Moon\",\"Bouquetot\",\"€6,000 (NEW)\"],[\"Victor Ludorum\",\"Logis\",\"€15,000 (€15,000)\"],[\"Wooded\",\"Bouquetot\",\"€12,000 (€15,000)\"],[\"Zarak\",\"Bonneval\",\"€60,000 (€25,000)\"],[\"Zelzal\",\"Bouquetot\",\"€15,000 (€15,000)\"]],[[\"Stallion\",\"Stud\",\"Fee\"],[\"Alson\",\"Fahrhof\",\"€6,000 (€6,000)\"],[\"Best Solution\",\"Lunzen\",\"€5,000 (€6,500)\"],[\"Counterattack\",\"Karlshof\",\"€7,500 (€5,000)\"],[\"Isfahan\",\"Ohlerweiherhof\",\"€7,500 (€9,500)\"],[\"Japan\",\"Etzean\",\"€11,000 (€11,000)\"],[\"Protectionist\",\"Rottgen\",\"€6,500 (€6,500)\"],[\"Torquator Tasso\",\"Auenquelle\",\"€20,000 (NEW)\"]],[[\"Stallion\",\"Stud\",\"Fee\"],[\"Adaay\",\"Besnate\",\"€5,000 (€4,500)\"],[\"Albert Dock\",\"Besnate\",\"€6,000 (€3,000)\"],[\"Ruler Of The World\",\"Berardenga\",\"€5,000 (€5,000)\"],[\"Adaay\",\"Besnate\",\"€5,000 (€4,500)\"]],[[\"Stallion\",\"Stud\",\"Fee\"],[\"Alaho West\",\"Mill Ridge\",\"$10,000 (NEW)\"],[\"Always Dreaming\",\"WinStar\",\"$10,000 ($12,500)\"],[\"American Pharoah\",\"Ashford\",\"$60,000 ($80,000)\"],[\"Army Mule\",\"Hill ‘n’ Dale\",\"$12,500 ($7,500)\"],[\"Audible\",\"WinStar\",\"$25,000 ($22,500)\"],[\"Authentic\",\"Spendthrift\",\"$60,000 ($70,000)\"],[\"Blame\",\"Claiborne\",\"$25,000 ($20,000)\"],[\"Bolt D’Oro\",\"Spendthrift\",\"$35,000 ($20,000)\"],[\"Cairo Prince\",\"Airdrie\",\"$15,000 ($15,000)\"],[\"Catholic Boy\",\"Claiborne\",\"$15,000 ($20,000)\"],[\"Charlatan\",\"Hill ‘n’ Dale\",\"$50,000 ($50,000)\"],[\"Classic Empire\",\"Ashford\",\"$15,000 ($17,500)\"],[\"Collected\",\"Airdrie\",\"$10,000 ($15,000)\"],[\"Complexity\",\"Airdrie\",\"$12,500 ($12,500)\"],[\"Constitution\",\"WinStar\",\"$110,000 ($85,000)\"],[\"Corniche\",\"Ashford\",\"$30,000 (NEW)\"],[\"Curlin\",\"Hill ‘n’ Dale\",\"$225,000 ($175,000)\"],[\"Dads Caps\",\"Barton TBs\",\"$10,000 ($10,000)\"],[\"Dialed In\",\"Darby Dan\",\"$15,000 ($15,000)\"],[\"Drain The Clock\",\"Gainesway\",\"$10,000 (NEW)\"],[\"Early Voting\",\"Ashford\",\"$25,000 (NEW)\"],[\"Essential Quality\",\"Jonabell\",\"$75,000 ($75,000)\"],[\"Flightline\",\"Lane’s End\",\"$200,000 (NEW)\"],[\"Frosted\",\"Jonabell\",\"$10,000 ($20,000)\"],[\"Ghostzapper\",\"Hill ‘n’ Dale\",\"$75,000 ($75,000)\"],[\"Girvin\",\"Airdrie\",\"$20,000 (NEW)\"],[\"Global Campaign\",\"WinStar\",\"$10,000 ($12,500)\"],[\"Goldencents\",\"Spendthrift\",\"$10,000 ($15,000)\"],[\"Happy Saver\",\"Airdrie\",\"$12,500 (NEW)\"],[\"Hard Spun\",\"Jonabell\",\"$35,000 ($35,000)\"],[\"Higher Power\",\"Darby Dan\",\"$10,000 ($10,000)\"],[\"Idol\",\"Taylor Made\",\"$10,000 (NEW)\"],[\"Improbable\",\"WinStar\",\"$25,000 ($35,000)\"],[\"Independence Hall\",\"WinStar\",\"$10,000 ($10,000)\"],[\"Into Mischief\",\"Spendthrift\",\"$250,000 ($250,000)\"],[\"Jack Christopher\",\"Ashford\",\"$45,000 (NEW)\"],[\"Jackie’s Warrior\",\"Spendthrift\",\"$50,000 (NEW)\"],[\"Jimmy Creed\",\"Spendthrift\",\"$10,000 ($10,000)\"],[\"Justify\",\"Ashford\",\"$100,000 ($100,000)\"],[\"Kantharos\",\"Hill ‘n’ Dale\",\"$20,000 ($20,000)\"],[\"Karakontie\",\"Gainesway\",\"$10,000 ($10,000)\"],[\"Knicks Go\",\"Taylor Made\",\"$30,000 ($30,000)\"],[\"Known Agenda\",\"Spendthrift\",\"$10,000 ($10,000)\"],[\"Life Is Good\",\"WinStar\",\"$100,000 (NEW)\"],[\"Lookin At Lucky\",\"Ashford\",\"$10,000 ($15,000)\"],[\"Maclean’s Music\",\"Hill ‘n’ Dale\",\"$50,000 ($50,000)\"],[\"Mandaloun\",\"Juddmonte\",\"$25,000 (NEW)\"],[\"Maxfield\",\"Jonabell\",\"$40,000 ($40,000)\"],[\"Maximum Security\",\"Ashford\",\"$10,000 ($15,000)\"],[\"McKinzie\",\"Gainesway\",\"$30,000 ($30,000)\"],[\"Medaglia D’Oro\",\"Jonabell\",\"$100,000 ($100,000)\"],[\"Midnight Lute\",\"Hill ‘n’ Dale\",\"$12,500 ($15,000) \"],[\"Midshipman\",\"Jonabell\",\"$20,000 ($10,000)\"],[\"Mitole\",\"Spendthrift\",\"$15,000 ($15,000)\"],[\"Mo Donegal\",\"Spendthrift\",\"$20,000 (NEW)\"],[\"Modernist\",\"Darby Dan\",\"$10,000 ($10,000)\"],[\"Munnings\",\"Ashford\",\"$100,000 ($85,000)\"],[\"Mystic Guide\",\"Jonabell\",\"$15,000 (NEW)\"],[\"Nashville\",\"WinStar\",\"$15,000 (NEW)\"],[\"Not This Time\",\"Taylor Made\",\"$135,000 ($45,000)\"],[\"Nyquist\",\"Jonabell\",\"$55,000 ($55,000)\"],[\"Olympiad\",\"Gainesway\",\"$35,000 (NEW)\"],[\"Omaha Beach\",\"Spendthrift\",\"$30,000 ($30,000)\"],[\"Outwork\",\"WinStar\",\"$10,000 ($10,000)\"],[\"Palace Malice\",\"Three Chimneys\",\"$10,000 ($12,500)\"],[\"Practical Joke\",\"Ashford\",\"$25,000 ($35,000)\"],[\"Preservationist\",\"Airdrie\",\"$10,000 ($10,000)\"],[\"Raging Bull\",\"Gainesway\",\"$10,000 ($10,000)\"],[\"Rock Your World\",\"Spendthrift\",\"$10,000 ($10,000)\"],[\"Runhappy\",\"Claiborne\",\"$15,000 ($12,500)\"],[\"Sharp Azteca\",\"Three Chimneys\",\"$15,000 ($5,000)\"],[\"Silver State\",\"Claiborne\",\"$20,000 ($20,000)\"],[\"Sky Mesa\",\"Three Chimneys\",\"$10,000 ($12,500)\"],[\"Speaker’s Corner\",\"Jonabell\",\"$20,000 (NEW)\"],[\"Speightstown\",\"WinStar\",\"$80,000 ($90,000)\"],[\"Spun To Run\",\"Gainesway\",\"$10,000 ($10,000)\"],[\"Street Sense\",\"Jonabell\",\"$75,000 ($75,000)\"],[\"Tacitus\",\"Taylor Made\",\"$10,000 ($10,000)\"],[\"Take Charge Indy\",\"WinStar\",\"$10,000 ($12,5000\"],[\"Tapit\",\"Gainesway\",\"$185,000 ($185,000)\"],[\"Tapwrit\",\"Gainesway\",\"$10,000 ($10,000)\"],[\"Tiz The Law\",\"Ashford\",\"$30,000 ($35,000)\"],[\"Tom’s D’Etat\",\"WinStar\",\"$10,000 ($12,500)\"],[\"Uncle Mo\",\"Ashford\",\"$150,000 ($150,000)\"],[\"Upstart\",\"Airdrie\",\"$30,000 ($10,000)\"],[\"Vekoma\",\"Spendthrift\",\"$15,000 ($17,500)\"],[\"Vino Rosso\",\"Spendthrift\",\"$15,000 ($20,000)\"],[\"Violence\",\"Hill ‘n’ Dale\",\"$40,000 ($25,000)\"],[\"Volatile\",\"Three Chimneys\",\"$12,500 ($15,000)\"],[\"War Front\",\"Claiborne\",\"$100,000 ($100,000)\"],[\"War Of Will \",\"Claiborne\",\"$25,000 ($25,000)\"],[\"Yaupon\",\"Spendthrift\",\"$30,000 ($30,000)\"],[\"Yoshida\",\"WinStar\",\"$10,000 ($12,500)\"]]],\"custom\":{\"verticalHeader\":false,\"styleName\":false,\"dynamicWidth\":true,\"A1cell\":true,\"decimalSeparator\":\".\",\"groupingSymbol\":\"none\",\"containsJSON\":false,\"showSearch\":true,\"live\":{\"provider\":\"\",\"title\":\"\",\"key\":\"\",\"refresh\":0,\"refreshed\":0,\"updated\":0,\"enabled\":0,\"sheetNames\":[\"Ireland\",\"Britain\",\"France\",\"USA\",\"Germany\",\"Italy\",\"Czech Republic\"],\"sheetSelected\":-1,\"fileId\":\"\",\"providerProperties\":{},\"url\":\"\",\"chartId\":233555526}},\"colors\":[\"#d71e24\",\"#1c1c1c\",\"#666\",\"#fff\",\"#ece9e9\",\"#1c1c1c\",\"#8BB7C9\",\"#1c1c1c\",\"#8BBAAE\"],\"defaultColors\":[\"#1c1c1c\",\"#fff\",\"#1c1c1c\",\"#fff\",\"#666\",\"#ece9e9\",\"#1c1c1c\",\"#fff\",\"#d71e24\"],\"defaultColorsHeatmap\":[],\"dimensions\":[],\"modifier\":0,\"sheetnames\":[\"Ireland\",\"Britain\",\"France\",\"Germany\",\"Italy\",\"USA\"],\"sheets_settings\":[],\"accessibility\":{\"enabled\":true,\"label\":\"Chart\",\"description\":\"\"}},{\"type\":\"particle\",\"particle_id\":781188756,\"object_id\":\"61a95b55-7eff-45a0-bad1-a0cdc6b956a5\",\"particle_type\":\"captiontext\",\"picture\":null,\"accessibility\":{\"enabled\":true},\"text\":\"The Irish Field is happy to include your sire\\n\\n\\n\\n\\n\\n\\n\\n\\n\\n\\n\\n\\n\\n  \\n  \\n \\n \\n  \\n  \\n \\n \\n  \\n \\n \\n \\n\\n\\n\\n\\n\\n\\n\\n\\n\\n\\n\\n\\n\\n\\n\\n\\n\\n\\n\\n\\n  \\n  \\n \\n \\n  \\n  \\n \\n \\n  \\n \\n \\n \\n\\n\\n\\n\\n\\n\\n\\u003Cp\\u003EPlease e-mail details to editorial@theirishfield.ie\\u003Cbr\\u003E\\u003C\\u002Fp\\u003E\\u003Cp\\u003EThe Irish Field accepts no responsibility for any errors on this list&nbsp;which is compiled from the best information available or information supplied to the paper.&nbsp;\\u003Cbr\\u003E\\u003C\\u002Fp\\u003E\",\"content_type\":\"text\\u002Fhtml\",\"title\":\"\",\"shrink\":null}],\"publishedURLId\":\"1pz1vq3e9mrq12u256k3mrv3ezb12rv912x\",\"updatedAt\":\"2022-12-09T09:47:54.000Z\",\"embed_image_data\":{\"height\":2794},\"privateURL\":\"bQHbMUkcBdD1LFGscrW5\",\"theme\":{\"title\":\"Farmers Journal\",\"usergroup\":\"farmersjournal\",\"picture\":\"https:\\u002F\\u002Fd1m5pq7b4fzvad.cloudfront.net\\u002F258\\u002Fthumbnail.png\",\"order\":40,\"public\":0,\"width\":550,\"fonts\":\"Open+Sans:400,700;Roboto:400,600,700\",\"colors\":[\"#DA2128\",\"#00628A\",\"#AD9963\",\"#0092A9\",\"#00684D\",\"#E45D62\",\"#458CA9\",\"#C3B48D\",\"#45AFC0\",\"#45917D\",\"#EE9A9D\",\"#8BB7C9\",\"#D9D0B8\",\"#8BCDD7\",\"#8BBAAE\"],\"logocolor\":\"d71e24\",\"logoImages\":[\"https:\\u002F\\u002Fd1m5pq7b4fzvad.cloudfront.net\\u002F258\\u002Ffarmers-journal.png\"],\"logoUrl\":\"\",\"showLogo\":\"\",\"showEmbed\":\"\",\"embedButtonText\":\"Share\",\"top\":0,\"padding\":30,\"spacing\":30,\"shrinkMargin\":30,\"shrinkPadding\":0,\"spacingElementMin\":null,\"spacingElementMax\":null,\"css\":\"svg .igc-pie-center-text .igc-pie-center-text-node {\\n\\tfont-family: Roboto;\\n\\tfont-weight: 700;\\n\\tfill: #1c1c1c;\\n\\tfont-size: 23px;\\n}\\n.igc-sheet {\\n\\tmargin-bottom: 15px;\\n}\\n.igc-sheets {\\n\\tmargin-bottom: 15px;\\n}\\n.igc-sheets .igc-sheet .igc-sheet-label,\\n    .igc-sheets .igc-sheet:hover .igc-sheet-label,\\n        .igc-sheets .igc-sheet.active .igc-sheet-label {\\n\\tcolor: #1c1c1c;\\n\\tmargin-left: 5px;\\n\\tfont-family: Roboto !important;\\n\\tfont-size: 13px !important;\\n\\tfont-weight: 400 !important;\\n}\\n.igc-sheets .igc-sheet:hover .igc-sheet-label,.igc-sheets .igc-sheet.active .igc-sheet-label {\\n\\tcolor: rgba(28,28,28,0.7);\\n}\\n.igc-sheets .igc-sheet .igc-sheet-ico,\\n    .igc-sheets .igc-sheet:hover .igc-sheet-ico {\\n\\tbackground: rgba(167,167,167,0.3);\\n\\tborder-color: #1c1c1c;\\n\\ttransition: .2s;\\n}\\n.igc-sheets .igc-sheet:hover .igc-sheet-ico {\\n\\tbackground: #A7A7A7;\\n}\\n.igc-sheets .igc-sheet.active .igc-sheet-ico {\\n\\tbackground: #1c1c1c;\\n}\\n.igc-sheets .igc-sheet.active .igc-sheet-ico::after,\\n    .igc-sheets .igc-sheet:hover .igc-sheet-ico::after {\\n\\theight: 6px;\\n\\twidth: 6px;\\n\\tleft: 6px;\\n\\ttop: 6px;\\n\\tbackground: #fff;\\n}\\n.igc-timer-value {\\n\\tfont-weight: 600 !important;\\n}\\n.igc-textual-figure {\\n\\tfont-family: Roboto;\\n\\tfont-size: 24px;\\n\\tfont-weight: 800;\\n}\\n.igc-textual-fact {\\n\\tcolor: #1c1c1c;\\n\\tfont-family: Roboto;\\n\\tfont-size: 16px;\\n\\tfont-weight: 400;\\n}\\n.igc-textual-figure .innertext {\\n\\tline-height: 30px !important;\\n}\\n.igc-textual-fact .innertext {\\n\\tline-height: 21px !important;\\n}\\n.igc-textual-icon {\\n\\tpadding-right: 30px;\\n\\tpadding-top: 7px;\\n}\\n.igc-table .igc-table-cell {\\n\\tfont-family: Roboto;\\n\\tfont-size: 13px;\\n\\tfont-weight: 400;\\n}\\n.igc-table .igc-table-header {\\n\\tfont-family: Roboto;\\n\\tfont-size: 13px;\\n\\tfont-weight: 400;\\n\\tpadding-left: 9px;\\n}\\n.ig-container {\\n\\tbackground: #ece9e9;\\n}\\n.headline {\\n\\tfont-family: Roboto;\\n\\tfont-size: 30px;\\n\\tfont-weight: 700;\\n\\tcolor: #1c1c1c;\\n\\ttext-align: left;\\n\\tline-height: 34px;\\n}\\n.chart-title {\\n\\tfont-family: Roboto;\\n\\tfont-size: 24px;\\n\\tfont-weight: 700;\\n\\tcolor: #1c1c1c;\\n\\ttext-align: left;\\n\\tline-height: 30px;\\n}\\n.bodytext {\\n\\tfont-family: Roboto;\\n\\tfont-size: 16px;\\n\\tfont-weight: 400;\\n\\tcolor: #1c1c1c;\\n\\ttext-align: left;\\n\\tline-height: 21px;\\n}\\n.quote {\\n\\tbackground: #fff url(\\u002Fi\\u002Ftemplates\\u002F258\\u002Fquote.svg) 30px 35px no-repeat;\\n\\tbackground-size: 36px;\\n\\tpadding: 30px;\\n\\tpadding-left: 96px;\\n\\tfont-family: Roboto;\\n\\tfont-size: 24px;\\n\\tfont-weight: 700;\\n\\tcolor: #d71e24;\\n\\tline-height: 30px;\\n\\ttext-align: left;\\n}\\n.quotetitle {\\n\\tfont-family: Roboto;\\n\\tfont-size: 16px;\\n\\tfont-weight: 400;\\n\\tcolor: #d71e24;\\n\\tmargin-top: 5px;\\n\\tline-height: 21px;\\n}\\n.tt_tooltip {\\n\\tcolor: #FFF;\\n\\tfont-family: Roboto;\\n\\tfont-size: 16px;\\n\\tfont-weight: 400;\\n}\\n.igc-legend-entry {\\n\\tmargin-top: 15px;\\n}\\n.footer-bottom {\\n\\tmargin-bottom: 25px;\\n}\\n.igc-legend {\\n\\tpadding-top: 10px;\\n\\tpadding-bottom: 0;\\n}\\n.ig-logo img {\\n\\tmax-height: 45px;\\n}\\n.ig-share-button {\\n\\tmargin-top: 8px;\\n}\\n.ig-separator-line {\\n\\tbackground: rgba(28, 28, 28, 0.5);\\n}\\n.heatmap-legend {\\n\\tbackground: rgba(236, 233, 233, 0.7);\\n}\\n.heatmap-legend-item,\\n.heatmap-label {\\n\\tcolor: #1c1c1c;\\n\\tfont-size: 13px;\\n\\tfont-weight: 400;\\n\\tfont-family: Roboto;\\n}\\n.igc-graph-pie-piece {\\n\\tstroke: rgba(236, 233, 233, 0.7);\\n}\\n.tt_tooltip .tt_value {\\n\\tfont-weight: 400;\\n}\\n.tt_tooltip .tt_body {\\n\\tbackground: #1c1c1c;\\n}\\n.tt_tooltip .tt_left {\\n\\tborder-right: 8px solid #1c1c1c;\\n}\\n.tt_tooltip .tt_right {\\n\\tborder-left: 8px solid #1c1c1c;\\n}\\n.igc-tabs .igc-tab-active {\\n\\tbackground: #ece9e9;\\n}\\n.igc-tabs .igc-tab .igc-tab-content,\\n          .igc-tabs .igc-tab.icon-down:after {\\n\\tfont-family: Roboto;\\n\\tcolor: #1c1c1c;\\n\\tfont-weight: 400;\\n}\\n.igc-tabs .igc-tab,\\n          .igc-tab-switcher {\\n\\tcolor: #1c1c1c;\\n}\\n.igc-tabs.igc-tabs-dropdown .igc-tab-name {\\n\\tfont-family: Roboto;\\n\\tcolor: #1c1c1c;\\n}\\n.captiontext {\\n\\tfont-family: Roboto;\\n\\tcolor: #1c1c1c;\\n\\tfont-weight: 400;\\n}\\n.captiontext .innertext {\\n\\tline-height: 1.5;\\n}\\n.igc-tab-ico svg path {\\n\\tfill: #1c1c1c;\\n}\\n.igc-tab-switcher-ico svg path {\\n\\tfill: #1c1c1c;\\n}\\n.igc-table-search {\\n\\tcolor: #666;\\n\\tfont-size: 13px;\\n\\tfont-weight: 400;\\n\\tfont-family: Roboto;\\n}\\n\",\"charts\":{\"treemap\":{\"labels\":{\"name\":{\"fontFamily\":\"Roboto\",\"fontWeight\":\"400\"},\"value\":{\"fontFamily\":\"Roboto\"}}},\"wordcloud\":{\"labels\":{\"fontFamily\":\"Roboto\",\"fontWeight\":\"400\"}},\"table\":{\"cellBackground\":\"#ece9e9\",\"headerBackground\":\"#fff\",\"cellColor\":\"#666\",\"headerColor\":\"#1c1c1c\",\"shapeFill\":\"#d71e24\"},\"legend\":{\"color\":{\"label\":{\"active\":\"rgb(28, 28, 28)\",\"hover\":\"rgba(28, 28, 28, 0.7)\",\"inactive\":\"rgb(28, 28, 28)\"},\"icon\":{\"inactive\":\"rgba(28, 28, 28, 0.2)\"}},\"layouts\":{\"bottom\":{\"legend\":{\"entry\":{\"marginTop\":\"15px\"},\"marginTop\":\"10px\",\"marginBottom\":\"0\"}}}},\"sheetSwitch\":{\"style\":{\"tab\":{\"font-family\":\"Roboto\",\"font-weight\":500,\"font-style\":\"normal\",\"colors\":{\"dropdown\":{\"selectIcon\":\"#1c1c1c\",\"leftSwitcherIcon\":\"#1c1c1c\",\"rightSwitcherIcon\":\"#1c1c1c\"}},\"font-size\":\"13px\",\"color\":\"#1c1c1c\"}}},\"gauge\":{\"colors\":{\"background\":\"#fff\"}},\"waterfall\":{\"colors\":\"da2128 ffd400 82806a\"},\"candle\":{\"colors\":{\"up\":\"#ffd400\",\"down\":\"#da2128\"}},\"barRadial\":{\"colors\":{\"background\":\"#fff\"}},\"pictorialBar\":{\"style\":{\"graph\":{\"item\":{\"value\":{\"font-family\":\"PT Sans Narrow, Arial Narrow\",\"font-size\":\"60px\"}}}}},\"map\":{\"countryFill\":\"#fff\",\"hotColor\":\"#da2128\",\"coldColor\":\"#ffffff\"},\"tooltip\":{\"value\":{\"fontWeight\":\"400\"},\"container\":{\"color\":\"#FFF\",\"fontFamily\":\"Roboto\",\"fontSize\":\"16px\",\"fontWeight\":\"400\"},\"body\":{\"background\":\"#1c1c1c\"},\"left\":{\"borderRight\":\"8px solid #1c1c1c\"},\"right\":{\"borderLeft\":\"8px solid #1c1c1c\"}}},\"chartOptions\":{\"map\":{\"countryStroke\":\"#fff\",\"countryFill\":\"#fff\",\"hotColor\":\"#da2128\",\"coldColor\":\"#ffffff\"},\"candle\":{\"colors\":\"DA2128 00628A AD9963\"},\"waterfall\":{\"colors\":\"DA2128 00628A AD9963\"}},\"chartDefaults\":{},\"color\":{\"bg\":\"#ece9e9\",\"text\":\"#1c1c1c\",\"chart\":{\"bg\":\"transparent\",\"text\":\"#1c1c1c\"},\"element\":{\"bg\":\"transparent\",\"text\":\"#1c1c1c\"}},\"colorPresets\":[],\"localFonts\":{\"google\":[{\"fontFamily\":\"Open Sans\",\"fontWeights\":[400,700]},{\"fontFamily\":\"Roboto\",\"fontWeights\":[400,600,700]}],\"local\":[],\"typekit\":[]},\"font\":{\"common\":{\"fontFamily\":\"Roboto\",\"fontWeight\":\"400\",\"fontStyle\":\"normal\",\"fontSize\":\"13\",\"textAlign\":\"initial\"},\"legend\":{\"fontWeight\":\"400\",\"fontSize\":\"16\",\"fontFamily\":\"Roboto\"},\"label\":{\"fontWeight\":400,\"fontSize\":13}},\"fontPresets\":[],\"fontFamilies\":[\"Open Sans\",\"Roboto\"],\"footerOptions\":{\"common\":{\"borderColor\":\"#dadada\",\"borderWidth\":1},\"copyrightNotice\":{\"enabled\":false,\"fontFamily\":\"PT Sans Narrow\",\"fontSize\":14,\"color\":\"#4b4b4b\",\"fontWeight\":400,\"fontStyle\":\"normal\"},\"shareButton\":{\"enabled\":true,\"background\":\"#d71e24\",\"text\":\"Share\",\"color\":\"#ffffff\",\"fontFamily\":\"Roboto, Arial, sans-serif\",\"fontSize\":13,\"fontWeight\":400,\"fontStyle\":\"normal\",\"position\":\"left\"},\"logo\":{\"position\":\"right\",\"enabled\":true,\"background\":\"#d71e24\"}},\"archived\":false,\"tabs\":true,\"zeroPaddingEmbed\":false,\"freelayoutContents\":{\"defaults\":{\"foregroundColor\":\"#1c1c1c\",\"backgroundColor\":\"#ece9e9\",\"fontFamily\":\"Roboto\",\"fontSize\":12,\"lineHeight\":1.5,\"textAlign\":\"ALIGN_LEFT\"},\"fontFamilies\":{\"font1\":\"Roboto\"},\"fontSizes\":{\"extraLarge\":64,\"large\":48,\"medium\":18,\"small\":12},\"elements\":{\"TEXT\":{\"h1\":{\"fontSize\":\"30px\",\"fontFamily\":\"Roboto\",\"fontWeight\":700,\"foregroundColor\":\"#1c1c1c\",\"lineHeight\":1.1},\"h2\":{\"fontSize\":\"24px\",\"fontFamily\":\"Roboto\",\"fontWeight\":700,\"foregroundColor\":\"#1c1c1c\",\"lineHeight\":1.3},\"body\":{\"fontSize\":\"16px\",\"fontFamily\":\"Roboto\",\"foregroundColor\":\"#1c1c1c\",\"lineHeight\":1.3},\"caption\":{\"fontSize\":\"13px\",\"fontFamily\":\"Roboto\",\"foregroundColor\":\"#1c1c1c\"}},\"SHAPE\":{\"fillColor\":\"#DA2128\",\"strokeColor\":\"#DA2128\"},\"IMAGE\":{\"fillColor\":\"#DA2128\"}},\"colors\":[\"#DA2128\",\"#00628A\",\"#AD9963\",\"#0092A9\",\"#00684D\",\"#E45D62\",\"#458CA9\",\"#C3B48D\",\"#45AFC0\",\"#45917D\",\"#EE9A9D\",\"#8BB7C9\",\"#D9D0B8\",\"#8BCDD7\",\"#8BBAAE\"]},\"id\":258,\"thumb\":\"\\u002Fi\\u002Ftemplates\\u002F258\\u002Fsmall.jpg\",\"version\":1,\"parentId\":0,\"enabledResponsive\":true,\"enabledFreeLayout\":true,\"createdAt\":\"2016-04-22T04:54:11.000Z\",\"updatedAt\":\"2022-02-14T14:30:47.000Z\",\"created_at\":\"2016-04-22T04:54:11.000Z\",\"updated_at\":\"2022-02-14T14:30:47.000Z\"},\"embed\":\"\\u003Cscript id=\\\"infogram_0__\\u002FbQHbMUkcBdD1LFGscrW5\\\" title=\\\"Stallion fees 2023 wk48\\\" src=\\\"https:\\u002F\\u002Fe.infogram.com\\u002Fjs\\u002Fdist\\u002Fembed.js?QJq\\\" type=\\\"text\\u002Fjavascript\\\"\\u003E\\u003C\\u002Fscript\\u003E\",\"embedIframe\":\"\\u003Ciframe src=\\\"https:\\u002F\\u002Fe.infogram.com\\u002F_\\u002FbQHbMUkcBdD1LFGscrW5?src=embed\\\" title=\\\"Stallion fees 2023 wk48\\\" width=\\\"599\\\" height=\\\"8918\\\" scrolling=\\\"no\\\" frameborder=\\\"0\\\" style=\\\"border:none;\\\" allowfullscreen=\\\"allowfullscreen\\\"\\u003E\\u003C\\u002Fiframe\\u003E\",\"embedImageResponsive\":\"\\u003Cscript id=\\\"infogramimg_0__\\u002FbQHbMUkcBdD1LFGscrW5\\\" title=\\\"Stallion fees 2023 wk48\\\" src=\\\"https:\\u002F\\u002Fe.infogram.com\\u002Fjs\\u002Fdist\\u002Fembed.js?iaT\\\" type=\\\"text\\u002Fjavascript\\\"\\u003E\\u003C\\u002Fscript\\u003E\",\"embedImageIframe\":\"\",\"embedAMP\":\"\\u003Camp-iframe width=\\\"599\\\" height=\\\"8918\\\" layout=\\\"responsive\\\" sandbox=\\\"allow-scripts allow-same-origin allow-popups\\\" resizable allowfullscreen frameborder=\\\"0\\\" src=\\\"https:\\u002F\\u002Fe.infogram.com\\u002F_\\u002FbQHbMUkcBdD1LFGscrW5?src=embed\\\"\\u003E\\u003Cdiv style=\\\"visibility: hidden\\\" overflow tabindex=0 role=button aria-label=\\\"Loading...\\\" placeholder\\u003ELoading...\\u003C\\u002Fdiv\\u003E\\u003C\\u002Famp-iframe\\u003E\",\"embedAMPImage\":\"\\u003Camp-iframe width=\\\"599\\\" height=\\\"8918\\\" layout=\\\"responsive\\\" sandbox=\\\"allow-scripts allow-same-origin allow-popups\\\" resizable allowfullscreen frameborder=\\\"0\\\" src=\\\"https:\\u002F\\u002Fe.infogram.com\\u002F_\\u002FbQHbMUkcBdD1LFGscrW5?src=embed\\\"\\u003E\\u003Cdiv style=\\\"visibility: hidden\\\" overflow tabindex=0 role=button aria-label=\\\"Loading...\\\" placeholder\\u003ELoading...\\u003C\\u002Fdiv\\u003E\\u003C\\u002Famp-iframe\\u003E\",\"embedWordpress\":\"[infogram id=\\\"_\\u002FbQHbMUkcBdD1LFGscrW5\\\" prefix=\\\"xrf\\\" format=\\\"interactive\\\" title=\\\"Stallion fees 2023 wk48\\\"]\",\"embedWordpressImage\":\"[infogram id=\\\"_\\u002FbQHbMUkcBdD1LFGscrW5\\\" prefix=\\\"Xc9\\\" format=\\\"image\\\" title=\\\"Stallion fees 2023 wk48\\\"]\",\"embedAsync\":\"\\u003Cdiv class=\\\"infogram-embed\\\" data-id=\\\"_\\u002FbQHbMUkcBdD1LFGscrW5\\\" data-type=\\\"interactive\\\" data-title=\\\"Stallion fees 2023 wk48\\\"\\u003E\\u003C\\u002Fdiv\\u003E\\u003Cscript\\u003E!function(e,i,n,s){var t=\\\"InfogramEmbeds\\\",d=e.getElementsByTagName(\\\"script\\\")[0];if(window[t]&&window[t].initialized)window[t].process&&window[t].process();else if(!e.getElementById(n)){var o=e.createElement(\\\"script\\\");o.async=1,o.id=n,o.src=\\\"https:\\u002F\\u002Fe.infogram.com\\u002Fjs\\u002Fdist\\u002Fembed-loader-min.js\\\",d.parentNode.insertBefore(o,d)}}(document,0,\\\"infogram-async\\\");\\u003C\\u002Fscript\\u003E\",\"embedImageAsync\":\"\\u003Cdiv class=\\\"infogram-embed\\\" data-id=\\\"_\\u002FbQHbMUkcBdD1LFGscrW5\\\" data-type=\\\"image\\\" data-title=\\\"Stallion fees 2023 wk48\\\"\\u003E\\u003C\\u002Fdiv\\u003E\\u003Cscript\\u003E!function(e,i,n,s){var t=\\\"InfogramEmbeds\\\",d=e.getElementsByTagName(\\\"script\\\")[0];if(window[t]&&window[t].initialized)window[t].process&&window[t].process();else if(!e.getElementById(n)){var o=e.createElement(\\\"script\\\");o.async=1,o.id=n,o.src=\\\"https:\\u002F\\u002Fe.infogram.com\\u002Fjs\\u002Fdist\\u002Fembed-loader-min.js\\\",d.parentNode.insertBefore(o,d)}}(document,0,\\\"infogram-async\\\");\\u003C\\u002Fscript\\u003E\",\"indexStatus\":true,\"branding\":{\"profilePagePublic\":true,\"fonts\":[{\"template\":false,\"value\":{\"id\":\"4d4f2fbc-aed4-4b5c-8e44-612c68bbaf83\",\"name\":\"Bebas Neue Regular\"}},{\"template\":false,\"value\":{\"id\":\"9e0d5830-f80f-4f9b-a3af-82dc0b9cf006\",\"name\":\"Myriad Pro Condensed\"}},{\"template\":false,\"value\":{\"id\":\"4d625546-80e3-4b2e-acc6-14da231b01bf\",\"name\":\"Coranto 2 Headline Bold\"}},{\"template\":false,\"value\":{\"id\":\"3bfc879e-54d1-4f36-8e33-e68705950eff\",\"name\":\"Coranto 2 Italic\"}},{\"template\":false,\"value\":{\"id\":\"d39788bf-de3b-4871-a404-42870765ee9b\",\"name\":\"Coranto 2 Regular\"}},{\"template\":false,\"value\":{\"id\":\"e3698d35-1e45-4bce-95b9-d6703fa668fd\",\"name\":\"Coranto 2 Headline Light\"}},{\"template\":false,\"value\":{\"id\":\"372341e0-6382-483c-b26b-df0d4d6c2704\",\"name\":\"Coranto 2 Headline SemiBold\"}},{\"template\":false,\"value\":{\"id\":\"d6f7d3b2-5cf8-4162-a476-0980fe58646a\",\"name\":\"Coranto 2 Headline Regular\"}},{\"template\":false,\"value\":{\"id\":\"b2e2e104-390b-4cfd-85ab-a98418d5a5c0\",\"name\":\"Interstate Regular\"}},{\"template\":false,\"value\":{\"id\":\"1c150342-c838-4306-8d27-21802ad5f429\",\"name\":\"Interstate-BlackCompressed BlackCompressed\"}},{\"template\":false,\"value\":{\"id\":\"36c01fb4-c9a0-4d4a-a7ef-4de485a805f6\",\"name\":\"InterstateBlack Regular\"}}],\"webfonts\":[{\"id\":\"igbr-Bebas Neue Regular\",\"familyName\":\"Bebas Neue Regular\",\"url\":\"https:\\u002F\\u002Fbranding.jifo.co\\u002F30624b23-ae14-4252-b15a-5452dff59add_Bebas-Neue-Regular.css\"},{\"id\":\"igbr-Myriad Pro Condensed\",\"familyName\":\"Myriad Pro Condensed\",\"url\":\"https:\\u002F\\u002Fbranding.jifo.co\\u002Fb0dedfcc-5a86-4baa-8582-d503b7336ee8_Myriad-Pro-Condensed.css\"},{\"id\":\"igbr-Coranto 2 Headline Bold\",\"familyName\":\"Coranto 2 Headline Bold\",\"url\":\"https:\\u002F\\u002Fbranding.jifo.co\\u002Fff522588-2d90-4a61-8917-5634dfaa4f20_Coranto-2-Headline-Bold.css\"},{\"id\":\"igbr-Coranto 2 Italic\",\"familyName\":\"Coranto 2 Italic\",\"url\":\"https:\\u002F\\u002Fbranding.jifo.co\\u002F4fb587a2-aa23-4647-9109-a9bce180b0a6_Coranto-2-Italic.css\"},{\"id\":\"igbr-Coranto 2 Regular\",\"familyName\":\"Coranto 2 Regular\",\"url\":\"https:\\u002F\\u002Fbranding.jifo.co\\u002F27678fe5-f067-46cc-8f48-be58e838e457_Coranto-2-Regular.css\"},{\"id\":\"igbr-Coranto 2 Headline Light\",\"familyName\":\"Coranto 2 Headline Light\",\"url\":\"https:\\u002F\\u002Fbranding.jifo.co\\u002F9a719943-2431-4b63-bace-90f5b61cf053_Coranto-2-Headline-Light.css\"},{\"id\":\"igbr-Coranto 2 Headline-e941115\",\"familyName\":\"Coranto 2 Headline SemiBold\",\"url\":\"https:\\u002F\\u002Fbranding.jifo.co\\u002F026f5347-8cec-4eb2-9099-5da6ad0692bc_Coranto-2-Headline-SemiBold.css\"},{\"id\":\"igbr-Coranto 2 Headline Regular\",\"familyName\":\"Coranto 2 Headline Regular\",\"url\":\"https:\\u002F\\u002Fbranding.jifo.co\\u002Fe21780b9-2d4e-4ce9-8877-5be94c02e207_Coranto-2-Headline-Regular.css\"},{\"id\":\"igbr-Interstate Regular\",\"familyName\":\"Interstate Regular\",\"url\":\"https:\\u002F\\u002Fbranding.jifo.co\\u002F3103fcde-f439-4444-99ed-2da6b2b04c20_Interstate-Regular.css\"},{\"id\":\"igbr-Interstate-BlackCo-51f67da\",\"familyName\":\"Interstate-BlackCompressed BlackCompressed\",\"url\":\"https:\\u002F\\u002Fbranding.jifo.co\\u002Fe381baa0-4c69-4c5f-b953-efb48bf93ca0_Interstate-BlackCompressed-BlackCompressed.css\"},{\"id\":\"igbr-InterstateBlack Regular\",\"familyName\":\"InterstateBlack Regular\",\"url\":\"https:\\u002F\\u002Fbranding.jifo.co\\u002Ff0538c08-7ccd-4eda-b1ae-f5ad62bd7bb3_InterstateBlack-Regular.css\"}],\"colors\":[{\"template\":false,\"value\":\"#FFFFFF\"},{\"template\":false,\"value\":\"#40AD49\"},{\"template\":false,\"value\":\"#7ABC6E\"},{\"template\":false,\"value\":\"#F21313\"},{\"template\":false,\"value\":\"#70C2B4\"}],\"webViewColors\":[\"#f5f5f6\",\"#D52027\",\"#D52027\",\"#656565\",\"#000000\"],\"profileLogo\":\"https:\\u002F\\u002Fimages.jifo.co\\u002F2115096_1583500184066.jpg\",\"applyThemeToAll\":false,\"allowFullscreen\":true}};</script>\n"
          ]
        }
      ],
      "source": [
        "from bs4 import BeautifulSoup as bs\n",
        "import requests\n",
        "import re\n",
        "import pandas as pd\n",
        "\n",
        "hsite = \"https://e.infogram.com/_/bQHbMUkcBdD1LFGscrW5?parent_url=https%3A%2F%2Fwww.theirishfield.ie%2Fstallion-fees-up-to-date-fees-for-more-than-400-stallions-for-2023-738173&src=embed#async_embed\"\n",
        "res = requests.get(hsite)\n",
        "soup = bs(res.content, \"html.parser\")\n",
        "#soup\n",
        "\n",
        "\n",
        "x = soup.find_all(\"script\")[4]\n",
        "## really good use of regex here i think to get the data from there.\n",
        "\n",
        "string = str(x)\n",
        "print(string)"
      ]
    },
    {
      "cell_type": "code",
      "source": [
        "raw_data = re.findall(r'\\[(.*?)\\]', string)\n",
        "\n",
        "\n",
        "##the below is a reusable function. When inputting the list returned from the regex pattern this will return the desired elements that we would like to keep\n",
        "def clean_data(data):\n",
        "  data_filtered = []\n",
        "  for i in data:\n",
        "    if len(i) != 0: ##removes empty strings in the list \n",
        "        if i[0] == '\"' and i[-2:] == ')\"': ##these are the charactorists of the strings that we want to keep.\n",
        "            i = i.replace('\"', '')#removing all the \"'s from the data\n",
        "            data_filtered.append(i)\n",
        "\n",
        "  return data_filtered\n",
        "\n",
        "data_lst = clean_data(raw_data)\n",
        "\n",
        "print(data_lst[0:5])"
      ],
      "metadata": {
        "colab": {
          "base_uri": "https://localhost:8080/"
        },
        "id": "zHNnMKjY5-v5",
        "outputId": "77f3cf4c-aa60-4a18-a503-551dfa9e12f9"
      },
      "execution_count": 22,
      "outputs": [
        {
          "output_type": "stream",
          "name": "stdout",
          "text": [
            "['Acclamation,Rathbarry,€27,500 (€27,500)', 'Alkumait,Castlefield,€5,000 (€5,000)', 'Arizona,Coolmore,€5,000 (€6,000)', 'Australia,Coolmore,€25,000 (€35,000)', 'Awtaad,Derrinstown,€5,000 (€5,000)']\n"
          ]
        }
      ]
    },
    {
      "cell_type": "code",
      "source": [
        "data_dic = {}\n",
        "for i in data_lst:\n",
        "  data_dic[i.split(\",\", 2)[0]] = [i.split(\",\", 2)[1],i.split(\",\", 2)[2]]\n",
        "\n",
        "col = ['Sire','Stud', 'Fee']\n",
        "fee_data = pd.DataFrame.from_dict(data_dic, orient='index').reset_index()\n",
        "fee_data.set_axis(col, axis = 1, inplace = True)\n",
        "fee_data.head()"
      ],
      "metadata": {
        "colab": {
          "base_uri": "https://localhost:8080/",
          "height": 206
        },
        "id": "jG6NwfmqBbwG",
        "outputId": "eb00fe77-6d7c-489a-bcfa-03f10ca6c3db"
      },
      "execution_count": 45,
      "outputs": [
        {
          "output_type": "execute_result",
          "data": {
            "text/plain": [
              "          Sire         Stud                Fee\n",
              "0  Acclamation    Rathbarry  €27,500 (€27,500)\n",
              "1     Alkumait  Castlefield    €5,000 (€5,000)\n",
              "2      Arizona     Coolmore    €5,000 (€6,000)\n",
              "3    Australia     Coolmore  €25,000 (€35,000)\n",
              "4       Awtaad  Derrinstown    €5,000 (€5,000)"
            ],
            "text/html": [
              "\n",
              "  <div id=\"df-2b2a0459-ec47-42da-9024-a38d48f87ed3\">\n",
              "    <div class=\"colab-df-container\">\n",
              "      <div>\n",
              "<style scoped>\n",
              "    .dataframe tbody tr th:only-of-type {\n",
              "        vertical-align: middle;\n",
              "    }\n",
              "\n",
              "    .dataframe tbody tr th {\n",
              "        vertical-align: top;\n",
              "    }\n",
              "\n",
              "    .dataframe thead th {\n",
              "        text-align: right;\n",
              "    }\n",
              "</style>\n",
              "<table border=\"1\" class=\"dataframe\">\n",
              "  <thead>\n",
              "    <tr style=\"text-align: right;\">\n",
              "      <th></th>\n",
              "      <th>Sire</th>\n",
              "      <th>Stud</th>\n",
              "      <th>Fee</th>\n",
              "    </tr>\n",
              "  </thead>\n",
              "  <tbody>\n",
              "    <tr>\n",
              "      <th>0</th>\n",
              "      <td>Acclamation</td>\n",
              "      <td>Rathbarry</td>\n",
              "      <td>€27,500 (€27,500)</td>\n",
              "    </tr>\n",
              "    <tr>\n",
              "      <th>1</th>\n",
              "      <td>Alkumait</td>\n",
              "      <td>Castlefield</td>\n",
              "      <td>€5,000 (€5,000)</td>\n",
              "    </tr>\n",
              "    <tr>\n",
              "      <th>2</th>\n",
              "      <td>Arizona</td>\n",
              "      <td>Coolmore</td>\n",
              "      <td>€5,000 (€6,000)</td>\n",
              "    </tr>\n",
              "    <tr>\n",
              "      <th>3</th>\n",
              "      <td>Australia</td>\n",
              "      <td>Coolmore</td>\n",
              "      <td>€25,000 (€35,000)</td>\n",
              "    </tr>\n",
              "    <tr>\n",
              "      <th>4</th>\n",
              "      <td>Awtaad</td>\n",
              "      <td>Derrinstown</td>\n",
              "      <td>€5,000 (€5,000)</td>\n",
              "    </tr>\n",
              "  </tbody>\n",
              "</table>\n",
              "</div>\n",
              "      <button class=\"colab-df-convert\" onclick=\"convertToInteractive('df-2b2a0459-ec47-42da-9024-a38d48f87ed3')\"\n",
              "              title=\"Convert this dataframe to an interactive table.\"\n",
              "              style=\"display:none;\">\n",
              "        \n",
              "  <svg xmlns=\"http://www.w3.org/2000/svg\" height=\"24px\"viewBox=\"0 0 24 24\"\n",
              "       width=\"24px\">\n",
              "    <path d=\"M0 0h24v24H0V0z\" fill=\"none\"/>\n",
              "    <path d=\"M18.56 5.44l.94 2.06.94-2.06 2.06-.94-2.06-.94-.94-2.06-.94 2.06-2.06.94zm-11 1L8.5 8.5l.94-2.06 2.06-.94-2.06-.94L8.5 2.5l-.94 2.06-2.06.94zm10 10l.94 2.06.94-2.06 2.06-.94-2.06-.94-.94-2.06-.94 2.06-2.06.94z\"/><path d=\"M17.41 7.96l-1.37-1.37c-.4-.4-.92-.59-1.43-.59-.52 0-1.04.2-1.43.59L10.3 9.45l-7.72 7.72c-.78.78-.78 2.05 0 2.83L4 21.41c.39.39.9.59 1.41.59.51 0 1.02-.2 1.41-.59l7.78-7.78 2.81-2.81c.8-.78.8-2.07 0-2.86zM5.41 20L4 18.59l7.72-7.72 1.47 1.35L5.41 20z\"/>\n",
              "  </svg>\n",
              "      </button>\n",
              "      \n",
              "  <style>\n",
              "    .colab-df-container {\n",
              "      display:flex;\n",
              "      flex-wrap:wrap;\n",
              "      gap: 12px;\n",
              "    }\n",
              "\n",
              "    .colab-df-convert {\n",
              "      background-color: #E8F0FE;\n",
              "      border: none;\n",
              "      border-radius: 50%;\n",
              "      cursor: pointer;\n",
              "      display: none;\n",
              "      fill: #1967D2;\n",
              "      height: 32px;\n",
              "      padding: 0 0 0 0;\n",
              "      width: 32px;\n",
              "    }\n",
              "\n",
              "    .colab-df-convert:hover {\n",
              "      background-color: #E2EBFA;\n",
              "      box-shadow: 0px 1px 2px rgba(60, 64, 67, 0.3), 0px 1px 3px 1px rgba(60, 64, 67, 0.15);\n",
              "      fill: #174EA6;\n",
              "    }\n",
              "\n",
              "    [theme=dark] .colab-df-convert {\n",
              "      background-color: #3B4455;\n",
              "      fill: #D2E3FC;\n",
              "    }\n",
              "\n",
              "    [theme=dark] .colab-df-convert:hover {\n",
              "      background-color: #434B5C;\n",
              "      box-shadow: 0px 1px 3px 1px rgba(0, 0, 0, 0.15);\n",
              "      filter: drop-shadow(0px 1px 2px rgba(0, 0, 0, 0.3));\n",
              "      fill: #FFFFFF;\n",
              "    }\n",
              "  </style>\n",
              "\n",
              "      <script>\n",
              "        const buttonEl =\n",
              "          document.querySelector('#df-2b2a0459-ec47-42da-9024-a38d48f87ed3 button.colab-df-convert');\n",
              "        buttonEl.style.display =\n",
              "          google.colab.kernel.accessAllowed ? 'block' : 'none';\n",
              "\n",
              "        async function convertToInteractive(key) {\n",
              "          const element = document.querySelector('#df-2b2a0459-ec47-42da-9024-a38d48f87ed3');\n",
              "          const dataTable =\n",
              "            await google.colab.kernel.invokeFunction('convertToInteractive',\n",
              "                                                     [key], {});\n",
              "          if (!dataTable) return;\n",
              "\n",
              "          const docLinkHtml = 'Like what you see? Visit the ' +\n",
              "            '<a target=\"_blank\" href=https://colab.research.google.com/notebooks/data_table.ipynb>data table notebook</a>'\n",
              "            + ' to learn more about interactive tables.';\n",
              "          element.innerHTML = '';\n",
              "          dataTable['output_type'] = 'display_data';\n",
              "          await google.colab.output.renderOutput(dataTable, element);\n",
              "          const docLink = document.createElement('div');\n",
              "          docLink.innerHTML = docLinkHtml;\n",
              "          element.appendChild(docLink);\n",
              "        }\n",
              "      </script>\n",
              "    </div>\n",
              "  </div>\n",
              "  "
            ]
          },
          "metadata": {},
          "execution_count": 45
        }
      ]
    },
    {
      "cell_type": "code",
      "source": [],
      "metadata": {
        "id": "8pTP3kQtvWCw"
      },
      "execution_count": null,
      "outputs": []
    },
    {
      "cell_type": "code",
      "source": [],
      "metadata": {
        "id": "0QrUFhk8w4TS"
      },
      "execution_count": null,
      "outputs": []
    }
  ]
}